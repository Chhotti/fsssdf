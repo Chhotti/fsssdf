{
 "cells": [
  {
   "cell_type": "code",
   "execution_count": 27,
   "id": "8a3f1cd9",
   "metadata": {},
   "outputs": [
    {
     "name": "stdout",
     "output_type": "stream",
     "text": [
      "Enter length of sides with space : 21 12 10\n",
      "Area of the triangle is :  34.270067114028244\n"
     ]
    }
   ],
   "source": [
    "#1.1 Write a Python Program(with class concepts) to find the area of the triangle........\n",
    "\n",
    "\n",
    "\n",
    "class length:\n",
    "    def __init__(self, side1, side2, side3):\n",
    "        self.side1, self.side2, self.side3 = [float(side) for side in input(\"Enter length of sides with space : \").split()]\n",
    "\n",
    "\n",
    "class triangle(length):\n",
    "    def __init__(self, side1, side2, side3):\n",
    "        length.__init__(self, side1, side2, side3)\n",
    "\n",
    "    def area(self):\n",
    "        s = (self.side1+ self.side2+self.side3)/2\n",
    "        return ((s * (s-self.side1) * (s-self.side2) * (s-self.side3)))**0.5\n",
    "\n",
    "mytriangle = triangle(0,0,0)\n",
    "print(\"Area of the triangle is : \",mytriangle.area())\n"
   ]
  },
  {
   "cell_type": "code",
   "execution_count": 4,
   "id": "87e3b4a2",
   "metadata": {},
   "outputs": [
    {
     "name": "stdout",
     "output_type": "stream",
     "text": [
      "Enter words:google,apple,microsoft,jupyter,\n",
      "Enter min length:7\n",
      "words with at least min length: ['microsoft', 'jupyter']\n"
     ]
    }
   ],
   "source": [
    "# write a function filter_long_words() that takes a list of words and an integer n and returns\n",
    " #the list of words that are longer than n.\n",
    "    \n",
    "    \n",
    "def filter_long_words(l,a):\n",
    "    words=[]\n",
    "    for j in l:\n",
    "        if(len(j)>=a):\n",
    "            words.append(j)\n",
    "            \n",
    "    return words\n",
    "\n",
    "n =input(\"Enter words:\")\n",
    "nt=n.split(\",\")\n",
    "na=input(\"Enter min length:\")\n",
    "long=filter_long_words(nt,int(na))\n",
    "\n",
    "print(\"words with at least min length:\",long)\n",
    "    \n",
    "    \n",
    "    \n",
    "    \n",
    "\n",
    "    \n"
   ]
  },
  {
   "cell_type": "code",
   "execution_count": null,
   "id": "82ced345",
   "metadata": {},
   "outputs": [],
   "source": [
    "#.1 Write a Python program using function concept that maps list of words into a list of integers\n",
    "#representing the lengths of the corresponding words.\n",
    "#Hint: If a list [ ab,cde,erty] is passed on to the python function output should come as [2,3,4]"
   ]
  },
  {
   "cell_type": "code",
   "execution_count": 22,
   "id": "f8f173cc",
   "metadata": {},
   "outputs": [
    {
     "name": "stdout",
     "output_type": "stream",
     "text": [
      "[3, 6, 4]\n",
      "<map object at 0x0000026930001FA0>\n",
      "[3, 6, 4]\n"
     ]
    }
   ],
   "source": [
    "\n",
    "\n",
    "def map_to_lengths_for(words):\n",
    "    lengths = []\n",
    "    for word in words:\n",
    "        lengths.append(len(word))\n",
    "    return lengths\n",
    "\n",
    "\n",
    "def map_to_lengths_map(words):\n",
    "    return map(len, words)\n",
    "\n",
    "\n",
    "def map_to_lengths_lists(words):\n",
    "    return [len(word) for word in words]\n",
    "\n",
    "\n",
    "if __name__ == \"__main__\":\n",
    "    words = ['abv', 'try me', 'test']\n",
    "    print (map_to_lengths_for(words))\n",
    "    print (map_to_lengths_map(words))\n",
    "    print (map_to_lengths_lists(words))\n",
    "    \n",
    "\n"
   ]
  },
  {
   "cell_type": "code",
   "execution_count": null,
   "id": "4d0378fd",
   "metadata": {},
   "outputs": [],
   "source": [
    "#2.2 Write a function that takes a character and returns true if it is a vowel, false otherwise #\n"
   ]
  },
  {
   "cell_type": "code",
   "execution_count": 20,
   "id": "07d49974",
   "metadata": {},
   "outputs": [
    {
     "name": "stdout",
     "output_type": "stream",
     "text": [
      "Enter the letter :- a\n",
      "True\n"
     ]
    }
   ],
   "source": [
    "\n",
    "\n",
    " def vowel(x):\n",
    "    if x == \"a\"or x ==\"e\" or x==\"i\" or x == \"o\" or x==\"u\":\n",
    "        return \"True\"\n",
    "    else:\n",
    "        return \"False \"\n",
    "a = input (\"Enter the letter :- \")\n",
    "print (vowel(a))\n",
    "\n",
    "\n",
    "\n",
    "\n",
    "\n",
    "\n",
    "\n"
   ]
  },
  {
   "cell_type": "code",
   "execution_count": null,
   "id": "386e2eae",
   "metadata": {},
   "outputs": [],
   "source": []
  },
  {
   "cell_type": "code",
   "execution_count": null,
   "id": "2ed34c38",
   "metadata": {},
   "outputs": [],
   "source": []
  }
 ],
 "metadata": {
  "kernelspec": {
   "display_name": "Python 3 (ipykernel)",
   "language": "python",
   "name": "python3"
  },
  "language_info": {
   "codemirror_mode": {
    "name": "ipython",
    "version": 3
   },
   "file_extension": ".py",
   "mimetype": "text/x-python",
   "name": "python",
   "nbconvert_exporter": "python",
   "pygments_lexer": "ipython3",
   "version": "3.9.7"
  }
 },
 "nbformat": 4,
 "nbformat_minor": 5
}
