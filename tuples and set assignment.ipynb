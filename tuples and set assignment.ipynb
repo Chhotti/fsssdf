{
 "cells": [
  {
   "cell_type": "code",
   "execution_count": null,
   "id": "8902b18f",
   "metadata": {},
   "outputs": [],
   "source": [
    "#1.1 Write a Python Program to implement your own myreduce() function which works exactly like Python's built-in function reduce()\n",
    "\n"
   ]
  },
  {
   "cell_type": "code",
   "execution_count": 7,
   "id": "73f65c1f",
   "metadata": {},
   "outputs": [
    {
     "name": "stdout",
     "output_type": "stream",
     "text": [
      "Output with original reduce function:  72\n",
      "Output with custom myreduce function:  72\n"
     ]
    }
   ],
   "source": [
    "from functools import reduce\n",
    "\n",
    "\n",
    "def minus(a, b):\n",
    "    return a-b\n",
    "\n",
    "\n",
    "l = [100, 3, 2, 1, 9, 6, 7]\n",
    "\n",
    "print(\"Output with original reduce function: \", reduce(minus, l))\n",
    "\n",
    "# creating custom myreduce function\n",
    "def myreduce(function, sequence):\n",
    "    first_ele = sequence[0]  # take the first element from sequence\n",
    "    # as first is taken, we will start from second element and iterate\n",
    "    for next_ele in sequence[1:]:\n",
    "        first_ele = function(first_ele, next_ele)\n",
    "    return first_ele\n",
    "\n",
    "\n",
    "print(\"Output with custom myreduce function: \", myreduce(minus, l))\n"
   ]
  },
  {
   "cell_type": "code",
   "execution_count": 3,
   "id": "ce7e2aeb",
   "metadata": {},
   "outputs": [],
   "source": [
    "#write a python program to implement your own myfilter() function which work exactly like python's built in function filter()\n"
   ]
  },
  {
   "cell_type": "code",
   "execution_count": 6,
   "id": "8b51a3c5",
   "metadata": {},
   "outputs": [
    {
     "name": "stdout",
     "output_type": "stream",
     "text": [
      "Output with original filter function:  [1, 3, 5, 7, 9, 11, 13]\n",
      "Output with custom myfilter function:  [1, 3, 5, 7, 9, 11, 13]\n"
     ]
    }
   ],
   "source": [
    "\n",
    "def odd_number(num):\n",
    "    if num % 2 == 0:\n",
    "        return False\n",
    "    else:\n",
    "        return True\n",
    "\n",
    "\n",
    "lst = [1, 2, 3, 4, 5, 6, 7, 8, 9, 10, 11, 12, 13]\n",
    "\n",
    "print(\"Output with original filter function: \", list(filter(odd_number, lst)))\n",
    "\n",
    "\n",
    "def myfilter(function, sequence):  # creating custom myfilter function\n",
    "    # as return type of inbuilt filter is iterable object, we create list which our custom filter can return\n",
    "    new_list = []\n",
    "    for ele in sequence:\n",
    "        if function(ele) == True:\n",
    "            # insterting in the list which we created\n",
    "            new_list.append(ele)\n",
    "\n",
    "    return new_list\n",
    "\n",
    "\n",
    "print(\"Output with custom myfilter function: \", list(myfilter(odd_number, lst)))\n",
    "\n"
   ]
  },
  {
   "cell_type": "code",
   "execution_count": null,
   "id": "781cb539",
   "metadata": {},
   "outputs": [],
   "source": [
    "#Implement List comprehensions to produce the following lists.Write List comprehensions to produce the following Lists\n"
   ]
  },
  {
   "cell_type": "code",
   "execution_count": 8,
   "id": "f851d331",
   "metadata": {},
   "outputs": [
    {
     "name": "stdout",
     "output_type": "stream",
     "text": [
      "['x', 'y', 'z'] <-----> ['x', 'xx', 'xxx', 'xxxx', 'y', 'yy', 'yyy', 'yyyy', 'z', 'zz', 'zzz', 'zzzz']\n"
     ]
    }
   ],
   "source": [
    "# ['x', 'xx', 'xxx', 'xxxx', 'y', 'yy', 'yyy', 'yyyy', 'z', 'zz', 'zzz', 'zzzz']\n",
    "\n",
    "base_list = ['x', 'y', 'z']\n",
    "new_list = [ele*num for ele in base_list for num in range(1, 5)]\n",
    "print(base_list, \"<----->\", new_list)\n"
   ]
  },
  {
   "cell_type": "code",
   "execution_count": 9,
   "id": "b827d759",
   "metadata": {},
   "outputs": [
    {
     "name": "stdout",
     "output_type": "stream",
     "text": [
      "['x', 'y', 'z'] <-----> ['x', 'y', 'z', 'xx', 'yy', 'zz', 'xxx', 'yyy', 'zzz', 'xxxx', 'yyyy', 'zzzz']\n"
     ]
    }
   ],
   "source": [
    "# ['x', 'y', 'z', 'xx', 'yy', 'zz', 'xxx', 'yyy', 'zzz', 'xxxx', 'yyyy', 'zzzz']\n",
    "\n",
    "new_list = [ele*num for num in range(1, 5) for ele in base_list]\n",
    "print(base_list, \"<----->\", new_list)\n"
   ]
  },
  {
   "cell_type": "code",
   "execution_count": 11,
   "id": "81f93b66",
   "metadata": {},
   "outputs": [
    {
     "name": "stdout",
     "output_type": "stream",
     "text": [
      "[2, 3, 4] <-----> [[2], [3], [4], [3], [4], [5], [4], [5], [6]]\n"
     ]
    }
   ],
   "source": [
    "# [[2], [3], [4], [3], [4], [5], [4], [5], [6]]\n",
    "\n",
    "num_list = [2, 3, 4]\n",
    "new_list = [[ele+num] for ele in num_list for num in range(3)]\n",
    "print(num_list, \"<----->\", new_list)\n"
   ]
  },
  {
   "cell_type": "code",
   "execution_count": 12,
   "id": "84a12e92",
   "metadata": {},
   "outputs": [
    {
     "name": "stdout",
     "output_type": "stream",
     "text": [
      "[2, 3, 4, 5] <-----> [[2, 3, 4, 5], [3, 4, 5, 6], [4, 5, 6, 7], [5, 6, 7, 8]]\n"
     ]
    }
   ],
   "source": [
    "# [[2, 3, 4, 5], [3, 4, 5, 6],[4, 5, 6, 7], [5, 6, 7, 8]]\n",
    "\n",
    "num_list = [2, 3, 4, 5]\n",
    "new_list = [[ele+num for ele in num_list] for num in range(4)]\n",
    "print(num_list, \"<----->\", new_list)\n"
   ]
  },
  {
   "cell_type": "code",
   "execution_count": 10,
   "id": "fbb27c31",
   "metadata": {},
   "outputs": [
    {
     "name": "stdout",
     "output_type": "stream",
     "text": [
      "[1, 2, 3] <-----> [(1, 1), (2, 1), (3, 1), (1, 2), (2, 2), (3, 2), (1, 3), (2, 3), (3, 3)]\n"
     ]
    }
   ],
   "source": [
    "# [(1, 1), (2, 1), (3, 1), (1, 2), (2, 2), (3, 2), (1, 3), (2, 3), (3, 3)]\n",
    "\n",
    "num_list = [1, 2, 3]\n",
    "new_list = [(ele, num) for num in num_list for ele in num_list]\n",
    "print(num_list, \"<----->\", new_list)"
   ]
  },
  {
   "cell_type": "code",
   "execution_count": null,
   "id": "f87eee34",
   "metadata": {},
   "outputs": [],
   "source": []
  }
 ],
 "metadata": {
  "kernelspec": {
   "display_name": "Python 3 (ipykernel)",
   "language": "python",
   "name": "python3"
  },
  "language_info": {
   "codemirror_mode": {
    "name": "ipython",
    "version": 3
   },
   "file_extension": ".py",
   "mimetype": "text/x-python",
   "name": "python",
   "nbconvert_exporter": "python",
   "pygments_lexer": "ipython3",
   "version": "3.9.7"
  }
 },
 "nbformat": 4,
 "nbformat_minor": 5
}
