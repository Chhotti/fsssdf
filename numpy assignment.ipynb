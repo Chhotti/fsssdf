{
 "cells": [
  {
   "cell_type": "code",
   "execution_count": 37,
   "id": "67eff64e",
   "metadata": {},
   "outputs": [],
   "source": [
    "import numpy as np\n",
    "def mov_avg_val(mylist, N):\n",
    "    cumsum , moving_aves = [0], []\n",
    "    for i, x in enumerate(mylist,1):\n",
    "        cumsum.append(cumsum[i-1] + x) #summing up all the valuesone by one appending the list\n",
    "        if i>=N:\n",
    "            moving_ave = round(((cumsum[i]-cumsum[i-N])/N),2) #computing the moving average using temp array sum array cumsum\n",
    "            #can do stuff moving_avg here\n",
    "            moving_aves.append(moving_ave)#listing the moving averageas as an single array\n",
    "        print(\"moving average values list:\",moving_aves)\n",
    "        print(\"length of list l-N+1 : \",len(moving_aves))\n",
    "        \n",
    "        \n",
    "            \n",
    "            \n",
    "            \n",
    "            \n",
    "            \n",
    "            "
   ]
  },
  {
   "cell_type": "code",
   "execution_count": 38,
   "id": "22c57d05",
   "metadata": {},
   "outputs": [
    {
     "name": "stdout",
     "output_type": "stream",
     "text": [
      "moving average values list: []\n",
      "length of list l-N+1 :  0\n",
      "moving average values list: []\n",
      "length of list l-N+1 :  0\n",
      "moving average values list: []\n",
      "length of list l-N+1 :  0\n",
      "moving average values list: [25.0]\n",
      "length of list l-N+1 :  1\n",
      "moving average values list: [25.0, 35.0]\n",
      "length of list l-N+1 :  2\n",
      "moving average values list: [25.0, 35.0, 45.0]\n",
      "length of list l-N+1 :  3\n",
      "moving average values list: [25.0, 35.0, 45.0, 55.0]\n",
      "length of list l-N+1 :  4\n",
      "moving average values list: [25.0, 35.0, 45.0, 55.0, 65.0]\n",
      "length of list l-N+1 :  5\n",
      "moving average values list: [25.0, 35.0, 45.0, 55.0, 65.0, 75.0]\n",
      "length of list l-N+1 :  6\n",
      "moving average values list: [25.0, 35.0, 45.0, 55.0, 65.0, 75.0, 85.0]\n",
      "length of list l-N+1 :  7\n"
     ]
    }
   ],
   "source": [
    "mylist =[10,20,30,40,50,60,70,80,90,100]\n",
    "N = 4\n",
    "mov_avg_val(mylist,N)\n",
    "\n",
    "\n"
   ]
  },
  {
   "cell_type": "code",
   "execution_count": 16,
   "id": "cfd6b052",
   "metadata": {},
   "outputs": [
    {
     "name": "stdout",
     "output_type": "stream",
     "text": [
      "moving average values list: []\n",
      "length of list l-N+1 : 0\n",
      "moving average values list: []\n",
      "length of list l-N+1 : 0\n",
      "moving average values list: [5.0]\n",
      "length of list l-N+1 : 1\n",
      "moving average values list: [5.0, 4.67]\n",
      "length of list l-N+1 : 2\n",
      "moving average values list: [5.0, 4.67, 5.67]\n",
      "length of list l-N+1 : 3\n",
      "moving average values list: [5.0, 4.67, 5.67, 6.67]\n",
      "length of list l-N+1 : 4\n",
      "moving average values list: [5.0, 4.67, 5.67, 6.67, 9.67]\n",
      "length of list l-N+1 : 5\n",
      "moving average values list: [5.0, 4.67, 5.67, 6.67, 9.67, 28.67]\n",
      "length of list l-N+1 : 6\n",
      "moving average values list: [5.0, 4.67, 5.67, 6.67, 9.67, 28.67, 49.33]\n",
      "length of list l-N+1 : 7\n",
      "moving average values list: [5.0, 4.67, 5.67, 6.67, 9.67, 28.67, 49.33, 72.67]\n",
      "length of list l-N+1 : 8\n",
      "moving average values list: [5.0, 4.67, 5.67, 6.67, 9.67, 28.67, 49.33, 72.67, 84.0]\n",
      "length of list l-N+1 : 9\n",
      "moving average values list: [5.0, 4.67, 5.67, 6.67, 9.67, 28.67, 49.33, 72.67, 84.0, 93.33]\n",
      "length of list l-N+1 : 10\n",
      "moving average values list: [5.0, 4.67, 5.67, 6.67, 9.67, 28.67, 49.33, 72.67, 84.0, 93.33, 116.33]\n",
      "length of list l-N+1 : 11\n"
     ]
    }
   ],
   "source": [
    "mylist = [3,5,7,2,8,10,11,65,72,81,99,100,150]\n",
    "N =3\n",
    "mov_avg_val(mylist,N)"
   ]
  },
  {
   "cell_type": "code",
   "execution_count": null,
   "id": "f5d83421",
   "metadata": {},
   "outputs": [],
   "source": []
  }
 ],
 "metadata": {
  "kernelspec": {
   "display_name": "Python 3 (ipykernel)",
   "language": "python",
   "name": "python3"
  },
  "language_info": {
   "codemirror_mode": {
    "name": "ipython",
    "version": 3
   },
   "file_extension": ".py",
   "mimetype": "text/x-python",
   "name": "python",
   "nbconvert_exporter": "python",
   "pygments_lexer": "ipython3",
   "version": "3.9.7"
  }
 },
 "nbformat": 4,
 "nbformat_minor": 5
}
